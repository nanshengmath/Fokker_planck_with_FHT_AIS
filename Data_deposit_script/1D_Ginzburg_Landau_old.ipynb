{
 "cells": [
  {
   "cell_type": "markdown",
   "id": "9c7fd77e",
   "metadata": {},
   "source": [
    "# Generate sample from 1D GZ with Euler-Maruyama"
   ]
  },
  {
   "cell_type": "code",
   "execution_count": 43,
   "id": "8283a253",
   "metadata": {},
   "outputs": [
    {
     "name": "stdout",
     "output_type": "stream",
     "text": [
      "Saved data at iteration 0, total violation is 0\n",
      "Saved data at iteration 1, total violation is 0\n",
      "Saved data at iteration 2, total violation is 0\n",
      "Saved data at iteration 3, total violation is 0\n",
      "Saved data at iteration 4, total violation is 0\n",
      "Saved data at iteration 5, total violation is 0\n",
      "Saved data at iteration 6, total violation is 0\n",
      "Saved data at iteration 7, total violation is 0\n",
      "Saved data at iteration 8, total violation is 0\n",
      "Saved data at iteration 9, total violation is 0\n",
      "Saved data at iteration 10, total violation is 0\n",
      "Saved data at iteration 11, total violation is 0\n",
      "Saved data at iteration 12, total violation is 0\n",
      "Saved data at iteration 13, total violation is 0\n",
      "Saved data at iteration 14, total violation is 0\n",
      "Saved data at iteration 15, total violation is 0\n",
      "Saved data at iteration 16, total violation is 0\n",
      "Saved data at iteration 17, total violation is 0\n",
      "Saved data at iteration 18, total violation is 0\n",
      "Saved data at iteration 19, total violation is 0\n",
      "Saved data at iteration 20, total violation is 0\n",
      "Saved data at iteration 21, total violation is 0\n",
      "Saved data at iteration 22, total violation is 0\n",
      "Saved data at iteration 23, total violation is 0\n",
      "Saved data at iteration 24, total violation is 0\n",
      "Saved data at iteration 25, total violation is 0\n",
      "Saved data at iteration 26, total violation is 0\n",
      "Saved data at iteration 27, total violation is 0\n",
      "Saved data at iteration 28, total violation is 0\n",
      "Saved data at iteration 29, total violation is 0\n",
      "total number of violation is 0\n"
     ]
    },
    {
     "data": {
      "image/png": "[encoded data removed]",
      "text/plain": [
       "<Figure size 640x480 with 1 Axes>"
      ]
     },
     "metadata": {},
     "output_type": "display_data"
    }
   ],
   "source": [
    "import numpy as np\n",
    "import os\n",
    "import matplotlib.pyplot as plt\n",
    "\n",
    "# Given constants\n",
    "d = 64\n",
    "h = 1 / (d + 1)\n",
    "λ = 0.01\n",
    "β = 5\n",
    "\n",
    "scale = 150\n",
    "dt = 0.0005 * scale\n",
    "N = int(1*scale/dt)  # Interested in T = 1\n",
    "dt = 1*scale/N  # Correct for small deviation\n",
    "\n",
    "l_MALA = True\n",
    "\n",
    "BATCH_SIZE = 100  # Set your desired batch size\n",
    "\n",
    "data_path = f\"./Saved_Data/1D_GZ_data_d_{d}.npz\"\n",
    "\n",
    "# Hyperparameters\n",
    "hyperparameters = {\n",
    "    \"d\": d,\n",
    "    \"h\": h,\n",
    "    \"λ\": λ,\n",
    "    \"β\": β,\n",
    "    \"dt\": dt,\n",
    "    \"N\": N,\n",
    "    \"BATCH_SIZE\": BATCH_SIZE\n",
    "}\n",
    "\n",
    "# # Create directory if it doesn't exist\n",
    "# if not os.path.exists(\"./Saved_Data\"):\n",
    "#     os.makedirs(\"./Saved_Data\")\n",
    "\n",
    "# # Load existing data or initialize\n",
    "# if os.path.exists(data_path):\n",
    "#     with np.load(data_path) as data:\n",
    "#         all_samples = data['samples']\n",
    "# else:\n",
    "#     all_samples = np.empty((0, d + 2))\n",
    "\n",
    "if os.path.exists(data_path):\n",
    "    os.remove(data_path)\n",
    "\n",
    "all_samples = np.empty((0, d + 2))\n",
    "\n",
    "def V(U):\n",
    "    # potential energy V\n",
    "    return ( λ/h**2/2 * np.sum((U - np.roll(U, 1, axis = 1))**2, axis = 1) + np.sum(((1 - U**2)**2)[:,1:-1], axis = 1) /4/λ ) / d\n",
    "\n",
    "def V_grad(U):\n",
    "    # Gradient of the potential energy V\n",
    "    return ( λ/h**2 * (2*U - np.roll(U, 1, axis = 1) - np.roll(U, -1, axis = 1)) - U * (1 - U**2) /λ ) / d\n",
    "\n",
    "def Langevin_step(U,β,V,V_grad,l_MALA=True):\n",
    "    dW = np.sqrt(dt) * np.random.randn(BATCH_SIZE, d + 2)\n",
    "    \n",
    "    U_tmp = U.copy()\n",
    "    U_tmp[:, 1:-1] += (-V_grad(U_tmp)[:, 1:-1] * dt + np.sqrt(2/β) * dW[:, 1:-1])\n",
    "\n",
    "    count = np.sum(U_tmp > 2.5) + np.sum(U_tmp <-2.5)\n",
    "    U_tmp[U_tmp > 2.5] = 2.5\n",
    "    U_tmp[U_tmp < -2.5] = -2.5\n",
    "\n",
    "    if l_MALA:\n",
    "        log_acceptance_ratio = np.minimum(0.0, - β * (V(U_tmp) - V(U)) \\\n",
    "                                      - β/4/dt * (np.sum(((U - U_tmp + dt * V_grad(U_tmp))[:,1:-1])**2,axis=1) \\\n",
    "                                                      - np.sum(((U_tmp - U + dt * V_grad(U))[:,1:-1])**2,axis=1)))\n",
    "        # Accept or reject\n",
    "        accept = np.log(np.random.uniform(size=U.shape[0])) < log_acceptance_ratio\n",
    "\n",
    "        # print(np.sum(accept))\n",
    "    \n",
    "        return np.where(accept[:, None], U_tmp, U), count\n",
    "    else:\n",
    "        return U_tmp, count\n",
    "\n",
    "count = 0\n",
    "\n",
    "for iteration in range(30):\n",
    "\n",
    "    # U = np.zeros((BATCH_SIZE, d + 2))  # Initialize at each iteration\n",
    "    U = np.ones((BATCH_SIZE, d + 2))  # Initialize at each iteration\n",
    "    U[:,0] = 0.0\n",
    "    U[:,-1] = 0.0\n",
    "\n",
    "    # Creating samples for 1D Ginzburg Landau\n",
    "    for _ in range(N):\n",
    "        U, count_ = Langevin_step(U,β,V,V_grad,l_MALA)\n",
    "        count += count_\n",
    "\n",
    "    all_samples = np.concatenate((all_samples, U), axis=0)\n",
    "    print(f'Saved data at iteration {iteration}, total violation is {count}')\n",
    "\n",
    "    # Save the accumulated data\n",
    "    np.savez(data_path, samples=all_samples, hyperparameters=hyperparameters)\n",
    "\n",
    "print(f'total number of violation is {count}')\n",
    "\n",
    "# Visualization of the (d/2)-th marginal distribution\n",
    "samples_1_mar = all_samples[:, round(d/2)]  # Extract the d/2-th bit from each sample\n",
    "plt.hist(samples_1_mar, bins=50, density=True)\n",
    "plt.title(f\"{round(d/2)}-th Marginal Distribution\")\n",
    "# plt.savefig('test2.png',bbox_inches='tight')\n",
    "plt.show()\n"
   ]
  },
  {
   "cell_type": "code",
   "execution_count": 16,
   "id": "edd96b31-c987-4881-a2f1-b69bf4e980e5",
   "metadata": {},
   "outputs": [
    {
     "ename": "NameError",
     "evalue": "name 'accept' is not defined",
     "output_type": "error",
     "traceback": [
      "\u001b[0;31m---------------------------------------------------------------------------\u001b[0m",
      "\u001b[0;31mNameError\u001b[0m                                 Traceback (most recent call last)",
      "Cell \u001b[0;32mIn[16], line 1\u001b[0m\n\u001b[0;32m----> 1\u001b[0m \u001b[43maccept\u001b[49m\n",
      "\u001b[0;31mNameError\u001b[0m: name 'accept' is not defined"
     ]
    }
   ],
   "source": [
    "accept"
   ]
  },
  {
   "cell_type": "code",
   "execution_count": 57,
   "id": "97ec55bc-29d9-49a1-833f-5a6b1041a9c1",
   "metadata": {},
   "outputs": [],
   "source": [
    "# print(np.min(V(U)))\n",
    "# print(np.max(V(U)))\n",
    "\n",
    "# print(U)\n",
    "\n",
    "# print(λ/h/2 * np.linalg.norm(U - np.roll(U, 1, axis = 1), axis = 1)**2)\n",
    "\n",
    "# print(h * np.sum(((1 - U**2)**2)[:,1:-1], axis = 1) /4/λ)\n"
   ]
  },
  {
   "cell_type": "code",
   "execution_count": null,
   "id": "263de166-146c-4b40-a3b0-5b2ae42b88df",
   "metadata": {},
   "outputs": [],
   "source": []
  }
 ],
 "metadata": {
  "kernelspec": {
   "display_name": "Python 3 (ipykernel)",
   "language": "python",
   "name": "python3"
  },
  "language_info": {
   "codemirror_mode": {
    "name": "ipython",
    "version": 3
   },
   "file_extension": ".py",
   "mimetype": "text/x-python",
   "name": "python",
   "nbconvert_exporter": "python",
   "pygments_lexer": "ipython3",
   "version": "3.12.5"
  }
 },
 "nbformat": 4,
 "nbformat_minor": 5
}
